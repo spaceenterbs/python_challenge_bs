{
 "cells": [
  {
   "cell_type": "code",
   "execution_count": null,
   "metadata": {},
   "outputs": [],
   "source": [
    "# if문\n",
    "if num1 > 10:\n",
    "    print(\"num은 10보다 크다.\")\n",
    "elif num1 == 10:\n",
    "    print(\"num은 10이다.\")\n",
    "else:\n",
    "    print(\"num은 10보다 작다.\")\n",
    "    \n",
    "if num2 >= 10:\n",
    "    if num <= 20:\n",
    "        print(\"num은 10이상 20이하다.\")\n",
    "    else:\n",
    "        print(\"num은 20보다 크다.\")\n",
    "else:\n",
    "    print(\"num은 10보다 작다.\")\n",
    "    \n",
    "text = str.lower(text) # text를 소문자로 변환 str.upper()는 대문자로 변환\n",
    "\n",
    "num3 = int(input(\"Enter a number between 10 and 20: \"))\n",
    "if num3 >= 10 and num3 <= 20:\n",
    "    print(\"Thank you\")\n",
    "else:\n",
    "    print(\"Out of range\")\n",
    "\n",
    "num4 = int(input(\"Enter an EVEN number between 1 and 5: \"))\n",
    "if num4 == 2 or num == 4:\n",
    "    print(\"Thank you\")\n",
    "else:\n",
    "    print(\"Incorrect\")"
   ]
  }
 ],
 "metadata": {
  "language_info": {
   "name": "python"
  },
  "orig_nbformat": 4
 },
 "nbformat": 4,
 "nbformat_minor": 2
}
