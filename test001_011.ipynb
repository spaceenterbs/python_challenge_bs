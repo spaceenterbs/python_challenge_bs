{
 "cells": [
  {
   "cell_type": "code",
   "execution_count": 25,
   "metadata": {},
   "outputs": [
    {
     "name": "stdout",
     "output_type": "stream",
     "text": [
      "This is a message\n",
      "First line\n",
      "Second line\n",
      "The answer is 1\n",
      "You entered 3\n",
      "You entered 5\n"
     ]
    }
   ],
   "source": [
    "num1 = 93\n",
    "num2 = 62\n",
    "answer = num1 + num2\n",
    "answer = num1 - num2\n",
    "answer = num1 * num2\n",
    "answer = num1 / num2\n",
    "answer = num1 // num2\n",
    "print(\"This is a message\")\n",
    "print(\"First line\\nSecond line\")\n",
    "print (\"The answer is\", answer)\n",
    "test_value = input(\"Enter a text value: \")\n",
    "print(\"You entered\", test_value)\n",
    "num_value = int(input(\"Enter a number: \"))\n",
    "print(\"You entered\", num_value)"
   ]
  },
  {
   "cell_type": "code",
   "execution_count": 26,
   "metadata": {},
   "outputs": [
    {
     "name": "stdout",
     "output_type": "stream",
     "text": [
      "Hello Sick\n",
      "Hello [ Sick]"
     ]
    }
   ],
   "source": [
    "#001\n",
    "user_name = input(\"Enter your name: \") # 이름이니 first_name이라고 해도 된다.\n",
    "print(\"Hello\", user_name) # Hello [name] 처럼 대괄호를 같이 출력하고 싶다면 print(\"Hello\", userName, sep=\" [\", end=\"]\") 처럼 sep과 end를 사용하면 된다.\n",
    "print(\"Hello\", user_name, sep=\" [ \", end=\"]\") # sep은 출력할 값 사이에 넣을 문자를 지정하는 것이고, end는 출력할 값 뒤에 붙일 문자를 지정하는 것이다."
   ]
  },
  {
   "cell_type": "code",
   "execution_count": 27,
   "metadata": {},
   "outputs": [
    {
     "name": "stdout",
     "output_type": "stream",
     "text": [
      "Hello Sick Bang\n",
      "Hello Sick Bang\n"
     ]
    }
   ],
   "source": [
    "\n",
    "#002\n",
    "user_first_name = input(\"Enter your first name: \")\n",
    "user_last_name = input(\"Enter your last name: \") # surname이라고 해도 된다.\n",
    "print(\"Hello \" + user_first_name + \" \" + user_last_name)\n",
    "print(\"Hello\", user_first_name, user_last_name)"
   ]
  },
  {
   "cell_type": "code",
   "execution_count": 28,
   "metadata": {},
   "outputs": [
    {
     "name": "stdout",
     "output_type": "stream",
     "text": [
      "'What do you call a bear with no teeth?'\n",
      "'A gummy bear!'\n"
     ]
    }
   ],
   "source": [
    "#003\n",
    "print(\"'What do you call a bear with no teeth?'\\n'A gummy bear!'\")"
   ]
  },
  {
   "cell_type": "code",
   "execution_count": 29,
   "metadata": {},
   "outputs": [
    {
     "name": "stdout",
     "output_type": "stream",
     "text": [
      "The total is 10\n",
      "The total is 10\n"
     ]
    }
   ],
   "source": [
    "#004\n",
    "num1 = int(input(\"Enter 1st number: \")) # 한번에 2개의 숫자를 어떻게 입력 받을 수 있을까?\n",
    "num2 = int(input(\"Enter 2nd number: \"))\n",
    "print(f\"The total is {num1 + num2}\")\n",
    "answer = num1 + num2\n",
    "print(\"The total is\", answer)"
   ]
  },
  {
   "cell_type": "code",
   "execution_count": 30,
   "metadata": {},
   "outputs": [
    {
     "name": "stdout",
     "output_type": "stream",
     "text": [
      "The total is 77\n",
      "The answer is 77\n"
     ]
    }
   ],
   "source": [
    "#005\n",
    "num1 = int(input(\"Enter 1st number: \"))\n",
    "num2 = int(input(\"Enter 2nd number: \"))\n",
    "num3 = int(input(\"Enter 3rd number: \"))\n",
    "print(f\"The total is {(num1 + num2) * num3}\")\n",
    "answer = (num1 + num2) * num3\n",
    "print(\"The answer is\", answer)"
   ]
  },
  {
   "cell_type": "code",
   "execution_count": 31,
   "metadata": {},
   "outputs": [
    {
     "name": "stdout",
     "output_type": "stream",
     "text": [
      "The number of slices left is 6조각\n",
      "You have 6 slices remaining\n"
     ]
    }
   ],
   "source": [
    "#006\n",
    "total_pizza_slices = int(input(\"Enter the total number of pizza slices: \"))\n",
    "num_of_ate_slices = int(input(\"Enter the number of slices that have been eaten: \"))\n",
    "print(f\"The number of slices left is {total_pizza_slices - num_of_ate_slices}조각\")\n",
    "\n",
    "startNum = int(input(\"Enter the number of slices of pizza you started with: \"))\n",
    "endNum = int(input(\"How many slices have you eaten? \"))\n",
    "slicesLeft = startNum - endNum\n",
    "print(\"You have\", slicesLeft, \"slices remaining\")"
   ]
  },
  {
   "cell_type": "code",
   "execution_count": 8,
   "metadata": {},
   "outputs": [
    {
     "name": "stdout",
     "output_type": "stream",
     "text": [
      "Sick next birthday you will be 31\n"
     ]
    }
   ],
   "source": [
    "#007\n",
    "user_name = input(\"Enter your name: \")\n",
    "user_age = int(input(\"Enter your age: \"))\n",
    "print(f\"{user_name} next birthday you will be {user_age + 1}\")\n",
    "newAge = user_age + 1\n",
    "print(user_name, \"next birthday you will be\", newAge)"
   ]
  },
  {
   "cell_type": "code",
   "execution_count": 11,
   "metadata": {},
   "outputs": [
    {
     "name": "stdout",
     "output_type": "stream",
     "text": [
      "Each person should pay $7.94\n"
     ]
    }
   ],
   "source": [
    "#008\n",
    "total_bill_price = float(input(\"Enter the total bill price: \"))\n",
    "num_of_people = int(input(\"Enter the number of people: \"))\n",
    "print(f\"Each person should pay ${total_bill_price / num_of_people:.2f}\") # 소수점 둘째 자리까지만 출력하고 싶다면 print(f\"Each person should pay ${total_bill_price / num_of_people:.2f}\")"
   ]
  },
  {
   "cell_type": "code",
   "execution_count": 32,
   "metadata": {},
   "outputs": [
    {
     "name": "stdout",
     "output_type": "stream",
     "text": [
      "In 10000 days there are...\n",
      "240000 hours\n",
      "14400000 minutes\n",
      "864000000 seconds left\n",
      "In 10000 days there are...\n",
      "240000 hours\n",
      "14400000 minutes\n",
      "864000000 seconds\n"
     ]
    }
   ],
   "source": [
    "#009\n",
    "days = int(input(\"Enter the number of days: \"))\n",
    "hours = days * 24\n",
    "minutes = hours * 60\n",
    "seconds = minutes * 60\n",
    "print(f\"In {days} days there are...\\n{hours} hours\\n{minutes} minutes\\n{seconds} seconds left\")\n",
    "print(\"In\", days, \"days there are...\")\n",
    "print(hours, \"hours\")\n",
    "print(minutes, \"minutes\")\n",
    "print(seconds, \"seconds\")"
   ]
  },
  {
   "cell_type": "code",
   "execution_count": 33,
   "metadata": {},
   "outputs": [
    {
     "name": "stdout",
     "output_type": "stream",
     "text": [
      "Your weight in pounds is 220.40\n",
      "This is 220.4 pounds\n"
     ]
    }
   ],
   "source": [
    "#010\n",
    "weight = float(input(\"Enter your weight in kilograms: \"))\n",
    "print(f\"Your weight in pounds is {weight * 2.204:.2f}\") # weight:.2f * 2.204로 하면 오류가 난다. 왜냐하면 weight:.2f는 weight를 소수점 둘째 자리까지만 출력하라는 의미이기 때문이다. 그래서 weight * 2.204:.2f로 해야 오류가 나지 않는다.\n",
    "pound = weight * 2.204\n",
    "print(\"This is\", pound, \"pounds\")"
   ]
  },
  {
   "cell_type": "code",
   "execution_count": 34,
   "metadata": {},
   "outputs": [
    {
     "name": "stdout",
     "output_type": "stream",
     "text": [
      "num2 can go into num1 20 times\n",
      "5 goes into 100 20 times\n"
     ]
    }
   ],
   "source": [
    "# 011\n",
    "num1 = int(input(\"Enter a number over 100: \"))\n",
    "num2 = int(input(\"Enter a number under 10: \"))\n",
    "print(f\"num2 can go into num1 {num1 // num2} times\") # 사용자 친화적인 형식으로 출력하고 싶다면 print(f\"num2 can go into num1 {num1 // num2} times with {num1 % num2} left over\")로 하면 된다.\n",
    "answer = num1 // num2\n",
    "print(num2, \"goes into\", num1, answer, \"times\")"
   ]
  }
 ],
 "metadata": {
  "kernelspec": {
   "display_name": "Python 3",
   "language": "python",
   "name": "python3"
  },
  "language_info": {
   "codemirror_mode": {
    "name": "ipython",
    "version": 3
   },
   "file_extension": ".py",
   "mimetype": "text/x-python",
   "name": "python",
   "nbconvert_exporter": "python",
   "pygments_lexer": "ipython3",
   "version": "3.11.3"
  },
  "orig_nbformat": 4
 },
 "nbformat": 4,
 "nbformat_minor": 2
}
