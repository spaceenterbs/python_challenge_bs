{
 "cells": [
  {
   "cell_type": "code",
   "execution_count": 7,
   "metadata": {},
   "outputs": [
    {
     "name": "stdout",
     "output_type": "stream",
     "text": [
      "This is a message\n",
      "First line\n",
      "Second line\n",
      "The answer is 1\n",
      "You entered 5\n",
      "You entered 5\n"
     ]
    }
   ],
   "source": [
    "num1 = 93\n",
    "num2 = 62\n",
    "answer = num1 + num2\n",
    "answer = num1 - num2\n",
    "answer = num1 * num2\n",
    "answer = num1 / num2\n",
    "answer = num1 // num2\n",
    "print(\"This is a message\")\n",
    "print(\"First line\\nSecond line\")\n",
    "print (\"The answer is\", answer)\n",
    "test_value = input(\"Enter a text value: \")\n",
    "print(\"You entered\", test_value)\n",
    "num_value = int(input(\"Enter a number: \"))\n",
    "print(\"You entered\", num_value)"
   ]
  },
  {
   "cell_type": "code",
   "execution_count": 10,
   "metadata": {},
   "outputs": [
    {
     "name": "stdout",
     "output_type": "stream",
     "text": [
      "Hello 이름\n",
      "Hello [ 이름]"
     ]
    }
   ],
   "source": [
    "#001\n",
    "user_name = input(\"Enter your name: \")\n",
    "print(\"Hello\", user_name) # Hello [name] 처럼 대괄호를 같이 출력하고 싶다면 print(\"Hello\", userName, sep=\" [\", end=\"]\") 처럼 sep과 end를 사용하면 된다.\n",
    "print(\"Hello\", user_name, sep=\" [ \", end=\"]\") # sep은 출력할 값 사이에 넣을 문자를 지정하는 것이고, end는 출력할 값 뒤에 붙일 문자를 지정하는 것이다.\n",
    "\n",
    "#002\n",
    "\n",
    "#003\n",
    "\n",
    "#004\n",
    "\n",
    "#005\n",
    "\n"
   ]
  }
 ],
 "metadata": {
  "kernelspec": {
   "display_name": "Python 3",
   "language": "python",
   "name": "python3"
  },
  "language_info": {
   "codemirror_mode": {
    "name": "ipython",
    "version": 3
   },
   "file_extension": ".py",
   "mimetype": "text/x-python",
   "name": "python",
   "nbconvert_exporter": "python",
   "pygments_lexer": "ipython3",
   "version": "3.11.3"
  },
  "orig_nbformat": 4
 },
 "nbformat": 4,
 "nbformat_minor": 2
}
