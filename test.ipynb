{
 "cells": [
  {
   "cell_type": "code",
   "execution_count": 7,
   "metadata": {},
   "outputs": [
    {
     "name": "stdout",
     "output_type": "stream",
     "text": [
      "This is a message\n",
      "First line\n",
      "Second line\n",
      "The answer is 1\n",
      "You entered 5\n",
      "You entered 5\n"
     ]
    }
   ],
   "source": [
    "num1 = 93\n",
    "num2 = 62\n",
    "answer = num1 + num2\n",
    "answer = num1 - num2\n",
    "answer = num1 * num2\n",
    "answer = num1 / num2\n",
    "answer = num1 // num2\n",
    "print(\"This is a message\")\n",
    "print(\"First line\\nSecond line\")\n",
    "print (\"The answer is\", answer)\n",
    "test_value = input(\"Enter a text value: \")\n",
    "print(\"You entered\", test_value)\n",
    "num_value = int(input(\"Enter a number: \"))\n",
    "print(\"You entered\", num_value)"
   ]
  },
  {
   "cell_type": "code",
   "execution_count": 1,
   "metadata": {},
   "outputs": [
    {
     "name": "stdout",
     "output_type": "stream",
     "text": [
      "Hello a\n",
      "Hello [ a]Hellob b\n"
     ]
    }
   ],
   "source": [
    "#001\n",
    "user_name = input(\"Enter your name: \")\n",
    "print(\"Hello\", user_name) # Hello [name] 처럼 대괄호를 같이 출력하고 싶다면 print(\"Hello\", userName, sep=\" [\", end=\"]\") 처럼 sep과 end를 사용하면 된다.\n",
    "print(\"Hello\", user_name, sep=\" [ \", end=\"]\") # sep은 출력할 값 사이에 넣을 문자를 지정하는 것이고, end는 출력할 값 뒤에 붙일 문자를 지정하는 것이다."
   ]
  },
  {
   "cell_type": "code",
   "execution_count": 2,
   "metadata": {},
   "outputs": [
    {
     "name": "stdout",
     "output_type": "stream",
     "text": [
      "Hello a b\n"
     ]
    }
   ],
   "source": [
    "\n",
    "#002\n",
    "user_first_name = input(\"Enter your first name: \")\n",
    "user_last_name = input(\"Enter your last name: \")\n",
    "print(\"Hello \" + user_first_name + \" \" + user_last_name)"
   ]
  },
  {
   "cell_type": "code",
   "execution_count": 3,
   "metadata": {},
   "outputs": [
    {
     "name": "stdout",
     "output_type": "stream",
     "text": [
      "'What do you call a bear with no teeth?'\n",
      "'A gummy bear!'\n"
     ]
    }
   ],
   "source": [
    "#003\n",
    "print(\"'What do you call a bear with no teeth?'\\n'A gummy bear!'\")"
   ]
  },
  {
   "cell_type": "code",
   "execution_count": 4,
   "metadata": {},
   "outputs": [
    {
     "name": "stdout",
     "output_type": "stream",
     "text": [
      "The total is 15\n"
     ]
    }
   ],
   "source": [
    "#004\n",
    "num1 = int(input(\"Enter 1st number: \")) # 한번에 2개의 숫자를 어떻게 입력 받을 수 있을까?\n",
    "num2 = int(input(\"Enter 2nd number: \"))\n",
    "print(f\"The total is {num1 + num2}\")"
   ]
  },
  {
   "cell_type": "code",
   "execution_count": 5,
   "metadata": {},
   "outputs": [
    {
     "name": "stdout",
     "output_type": "stream",
     "text": [
      "The total is 120\n"
     ]
    }
   ],
   "source": [
    "#005\n",
    "num1 = int(input(\"Enter 1st number: \"))\n",
    "num2 = int(input(\"Enter 2nd number: \"))\n",
    "num3 = int(input(\"Enter 3rd number: \"))\n",
    "print(f\"The total is {(num1 + num2) * num3}\")"
   ]
  }
 ],
 "metadata": {
  "kernelspec": {
   "display_name": "Python 3",
   "language": "python",
   "name": "python3"
  },
  "language_info": {
   "codemirror_mode": {
    "name": "ipython",
    "version": 3
   },
   "file_extension": ".py",
   "mimetype": "text/x-python",
   "name": "python",
   "nbconvert_exporter": "python",
   "pygments_lexer": "ipython3",
   "version": "3.11.3"
  },
  "orig_nbformat": 4
 },
 "nbformat": 4,
 "nbformat_minor": 2
}
