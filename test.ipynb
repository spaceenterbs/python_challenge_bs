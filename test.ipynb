{
 "cells": [
  {
   "cell_type": "code",
   "execution_count": 7,
   "metadata": {},
   "outputs": [
    {
     "name": "stdout",
     "output_type": "stream",
     "text": [
      "This is a message\n",
      "First line\n",
      "Second line\n",
      "The answer is 1\n",
      "You entered 5\n",
      "You entered 5\n"
     ]
    }
   ],
   "source": [
    "num1 = 93\n",
    "num2 = 62\n",
    "answer = num1 + num2\n",
    "answer = num1 - num2\n",
    "answer = num1 * num2\n",
    "answer = num1 / num2\n",
    "answer = num1 // num2\n",
    "print(\"This is a message\")\n",
    "print(\"First line\\nSecond line\")\n",
    "print (\"The answer is\", answer)\n",
    "test_value = input(\"Enter a text value: \")\n",
    "print(\"You entered\", test_value)\n",
    "num_value = int(input(\"Enter a number: \"))\n",
    "print(\"You entered\", num_value)"
   ]
  },
  {
   "cell_type": "code",
   "execution_count": 1,
   "metadata": {},
   "outputs": [
    {
     "name": "stdout",
     "output_type": "stream",
     "text": [
      "Hello a\n",
      "Hello [ a]Hellob b\n"
     ]
    }
   ],
   "source": [
    "#001\n",
    "user_name = input(\"Enter your name: \")\n",
    "print(\"Hello\", user_name) # Hello [name] 처럼 대괄호를 같이 출력하고 싶다면 print(\"Hello\", userName, sep=\" [\", end=\"]\") 처럼 sep과 end를 사용하면 된다.\n",
    "print(\"Hello\", user_name, sep=\" [ \", end=\"]\") # sep은 출력할 값 사이에 넣을 문자를 지정하는 것이고, end는 출력할 값 뒤에 붙일 문자를 지정하는 것이다."
   ]
  },
  {
   "cell_type": "code",
   "execution_count": 2,
   "metadata": {},
   "outputs": [
    {
     "name": "stdout",
     "output_type": "stream",
     "text": [
      "Hello a b\n"
     ]
    }
   ],
   "source": [
    "\n",
    "#002\n",
    "user_first_name = input(\"Enter your first name: \")\n",
    "user_last_name = input(\"Enter your last name: \")\n",
    "print(\"Hello \" + user_first_name + \" \" + user_last_name)"
   ]
  },
  {
   "cell_type": "code",
   "execution_count": 3,
   "metadata": {},
   "outputs": [
    {
     "name": "stdout",
     "output_type": "stream",
     "text": [
      "'What do you call a bear with no teeth?'\n",
      "'A gummy bear!'\n"
     ]
    }
   ],
   "source": [
    "#003\n",
    "print(\"'What do you call a bear with no teeth?'\\n'A gummy bear!'\")"
   ]
  },
  {
   "cell_type": "code",
   "execution_count": 4,
   "metadata": {},
   "outputs": [
    {
     "name": "stdout",
     "output_type": "stream",
     "text": [
      "The total is 15\n"
     ]
    }
   ],
   "source": [
    "#004\n",
    "num1 = int(input(\"Enter 1st number: \")) # 한번에 2개의 숫자를 어떻게 입력 받을 수 있을까?\n",
    "num2 = int(input(\"Enter 2nd number: \"))\n",
    "print(f\"The total is {num1 + num2}\")"
   ]
  },
  {
   "cell_type": "code",
   "execution_count": 5,
   "metadata": {},
   "outputs": [
    {
     "name": "stdout",
     "output_type": "stream",
     "text": [
      "The total is 120\n"
     ]
    }
   ],
   "source": [
    "#005\n",
    "num1 = int(input(\"Enter 1st number: \"))\n",
    "num2 = int(input(\"Enter 2nd number: \"))\n",
    "num3 = int(input(\"Enter 3rd number: \"))\n",
    "print(f\"The total is {(num1 + num2) * num3}\")"
   ]
  },
  {
   "cell_type": "code",
   "execution_count": 6,
   "metadata": {},
   "outputs": [
    {
     "name": "stdout",
     "output_type": "stream",
     "text": [
      "The number of slices left is 4조각\n"
     ]
    }
   ],
   "source": [
    "#006\n",
    "total_pizza_slices = int(input(\"Enter the total number of pizza slices: \"))\n",
    "num_of_ate_slices = int(input(\"Enter the number of slices that have been eaten: \"))\n",
    "print(f\"The number of slices left is {total_pizza_slices - num_of_ate_slices}조각\")"
   ]
  },
  {
   "cell_type": "code",
   "execution_count": 8,
   "metadata": {},
   "outputs": [
    {
     "name": "stdout",
     "output_type": "stream",
     "text": [
      "Sick next birthday you will be 31\n"
     ]
    }
   ],
   "source": [
    "#007\n",
    "user_name = input(\"Enter your name: \")\n",
    "user_age = int(input(\"Enter your age: \"))\n",
    "print(f\"{user_name} next birthday you will be {user_age + 1}\")"
   ]
  },
  {
   "cell_type": "code",
   "execution_count": 11,
   "metadata": {},
   "outputs": [
    {
     "name": "stdout",
     "output_type": "stream",
     "text": [
      "Each person should pay $7.94\n"
     ]
    }
   ],
   "source": [
    "#008\n",
    "total_bill_price = float(input(\"Enter the total bill price: \"))\n",
    "num_of_people = int(input(\"Enter the number of people: \"))\n",
    "print(f\"Each person should pay ${total_bill_price / num_of_people:.2f}\") # 소수점 둘째 자리까지만 출력하고 싶다면 print(f\"Each person should pay ${total_bill_price / num_of_people:.2f}\")"
   ]
  },
  {
   "cell_type": "code",
   "execution_count": 13,
   "metadata": {},
   "outputs": [
    {
     "name": "stdout",
     "output_type": "stream",
     "text": [
      "In 10 days there are...\n",
      "240 hours\n",
      "14400 minutes\n",
      "864000 seconds left\n"
     ]
    }
   ],
   "source": [
    "#009\n",
    "days = int(input(\"Enter the number of days: \"))\n",
    "hours = days * 24\n",
    "minutes = hours * 60\n",
    "seconds = minutes * 60\n",
    "print(f\"In {days} days there are...\\n{hours} hours\\n{minutes} minutes\\n{seconds} seconds left\")"
   ]
  },
  {
   "cell_type": "code",
   "execution_count": 16,
   "metadata": {},
   "outputs": [
    {
     "name": "stdout",
     "output_type": "stream",
     "text": [
      "Your weight in pounds is 187.34:.2f\n"
     ]
    }
   ],
   "source": [
    "#010\n",
    "weight = float(input(\"Enter your weight in kilograms: \"))\n",
    "print(f\"Your weight in pounds is {2.204 * weight:.2f}\")"
   ]
  }
 ],
 "metadata": {
  "kernelspec": {
   "display_name": "Python 3",
   "language": "python",
   "name": "python3"
  },
  "language_info": {
   "codemirror_mode": {
    "name": "ipython",
    "version": 3
   },
   "file_extension": ".py",
   "mimetype": "text/x-python",
   "name": "python",
   "nbconvert_exporter": "python",
   "pygments_lexer": "ipython3",
   "version": "3.11.3"
  },
  "orig_nbformat": 4
 },
 "nbformat": 4,
 "nbformat_minor": 2
}
